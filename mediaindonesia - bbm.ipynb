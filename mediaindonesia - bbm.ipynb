{
 "cells": [
  {
   "cell_type": "code",
   "execution_count": 11,
   "metadata": {},
   "outputs": [],
   "source": [
    "import requests\n",
    "import csv\n",
    "import pandas as pd\n",
    "import json\n",
    "from bs4 import BeautifulSoup as bs\n",
    "from selenium import webdriver\n",
    "from selenium.webdriver.chrome.options import Options"
   ]
  },
  {
   "cell_type": "code",
   "execution_count": 12,
   "metadata": {},
   "outputs": [
    {
     "name": "stderr",
     "output_type": "stream",
     "text": [
      "C:\\Users\\novandra\\AppData\\Local\\Temp\\ipykernel_14856\\2594541221.py:7: DeprecationWarning: executable_path has been deprecated, please pass in a Service object\n",
      "  driver = webdriver.Chrome(executable_path = path, options=chrome_options)\n"
     ]
    }
   ],
   "source": [
    "chrome_options = Options()\n",
    "chrome_options.add_argument('--no-sandbox')\n",
    "chrome_options.add_argument('disable-notifications')\n",
    "chrome_options.add_argument('--disable-infobars')\n",
    "\n",
    "path = 'D:\\Documents\\code\\Scraping/chromedriver.exe'\n",
    "driver = webdriver.Chrome(executable_path = path, options=chrome_options)"
   ]
  },
  {
   "cell_type": "code",
   "execution_count": 14,
   "metadata": {},
   "outputs": [],
   "source": [
    "judul_artikel, tautan, artikel = [], [], []\n",
    "for page in range (0,10):\n",
    "    link_utama = 'https://mediaindonesia.com/search?q=subsidi%20bbm#gsc.tab=0&gsc.q=%22subsidi%20bbm%22&gsc.page={}'.format(page)\n",
    "    driver.get(link_utama)"
   ]
  },
  {
   "cell_type": "code",
   "execution_count": 15,
   "metadata": {},
   "outputs": [],
   "source": [
    "    html = driver.execute_script(\"return document.getElementsByTagName('html')[0].innerHTML\")\n",
    "    mediaind = bs(html,\"html.parser\")"
   ]
  },
  {
   "cell_type": "code",
   "execution_count": 16,
   "metadata": {},
   "outputs": [],
   "source": [
    "    for i in mediaind:\n",
    "        containers = mediaind.findAll('div', class_='gsc-webResult gsc-result')\n",
    "        for i in  containers:\n",
    "            ajudul_artikel = i.find(class_='gs-title').find('a')\n",
    "            bjudul_artikel = ajudul_artikel.get_text()\n",
    "            judul_artikel.append(bjudul_artikel)\n",
    "        \n",
    "        for i in containers:\n",
    "            url = i.find('a')\n",
    "            tautan.append(url.get('href'))"
   ]
  },
  {
   "cell_type": "code",
   "execution_count": 17,
   "metadata": {},
   "outputs": [],
   "source": [
    "#selanjutnya buka setiap link, dan ambil isi artikelnya\n",
    "for link_artikel in tautan:\n",
    "    urls = requests.get(link_artikel).content\n",
    "    laman_mediaind = bs(urls,'html.parser')\n",
    "    berita_1 = laman_mediaind.find_all('p')\n",
    "\n",
    "    list_text = []\n",
    "    for list in berita_1:\n",
    "        j = list.text\n",
    "        list_text.append(j)\n",
    "    full_text = \" \".join (list_text)\n",
    "    artikel.append(full_text)"
   ]
  },
  {
   "cell_type": "code",
   "execution_count": 18,
   "metadata": {},
   "outputs": [],
   "source": [
    "#buat data frame\n",
    "list_kolom = ['judul_artikel', 'tautan', 'artikel']\n",
    "list_data = dict(zip(\n",
    "            list_kolom,\n",
    "                (judul_artikel,\n",
    "                tautan,\n",
    "                artikel)\n",
    "))"
   ]
  },
  {
   "cell_type": "code",
   "execution_count": 19,
   "metadata": {},
   "outputs": [],
   "source": [
    "with open ('media indonesia - transformasi ekonomi.json', 'w') as fp:\n",
    "    json.dump(list_data, fp)"
   ]
  },
  {
   "cell_type": "code",
   "execution_count": 20,
   "metadata": {},
   "outputs": [
    {
     "data": {
      "text/html": [
       "<div>\n",
       "<style scoped>\n",
       "    .dataframe tbody tr th:only-of-type {\n",
       "        vertical-align: middle;\n",
       "    }\n",
       "\n",
       "    .dataframe tbody tr th {\n",
       "        vertical-align: top;\n",
       "    }\n",
       "\n",
       "    .dataframe thead th {\n",
       "        text-align: right;\n",
       "    }\n",
       "</style>\n",
       "<table border=\"1\" class=\"dataframe\">\n",
       "  <thead>\n",
       "    <tr style=\"text-align: right;\">\n",
       "      <th></th>\n",
       "      <th>judul_artikel</th>\n",
       "      <th>tautan</th>\n",
       "      <th>artikel</th>\n",
       "    </tr>\n",
       "  </thead>\n",
       "  <tbody>\n",
       "    <tr>\n",
       "      <th>0</th>\n",
       "      <td>Indonesia Hadapi Banyak Tantangan Pemulihan di...</td>\n",
       "      <td>https://mediaindonesia.com/ekonomi/466763/indo...</td>\n",
       "      <td>ANTARA/MUHAMMAD ADIMAJA\\nMenko Perekonomian Ai...</td>\n",
       "    </tr>\n",
       "    <tr>\n",
       "      <th>1</th>\n",
       "      <td>Harga Komoditas Naik, Ekonom : Jangan Bangga S...</td>\n",
       "      <td>https://mediaindonesia.com/ekonomi/466795/harg...</td>\n",
       "      <td>ANTARA FOTO/Aswaddy Hamid\\nPekerja memuat miny...</td>\n",
       "    </tr>\n",
       "    <tr>\n",
       "      <th>2</th>\n",
       "      <td>Investasi Inklusif untuk Masa Depan Indonesia</td>\n",
       "      <td>https://mediaindonesia.com/kolom-pakar/464741/...</td>\n",
       "      <td>MI/Seno\\n \\n TAHUN Baru bukan hanya lintasan w...</td>\n",
       "    </tr>\n",
       "    <tr>\n",
       "      <th>3</th>\n",
       "      <td>Indikator Membaik, Pemulihan Ekonomi Diharapka...</td>\n",
       "      <td>https://mediaindonesia.com/ekonomi/464086/indi...</td>\n",
       "      <td>ANTARA\\nIlustrasi\\n MENTERI Koordinator Bidang...</td>\n",
       "    </tr>\n",
       "    <tr>\n",
       "      <th>4</th>\n",
       "      <td>Luhut Janji Percepat Izin Usaha ke Investor di...</td>\n",
       "      <td>https://mediaindonesia.com/ekonomi/459751/luhu...</td>\n",
       "      <td>Antara \\nMenko Bidang Kemaritiman dan Investas...</td>\n",
       "    </tr>\n",
       "  </tbody>\n",
       "</table>\n",
       "</div>"
      ],
      "text/plain": [
       "                                       judul_artikel  \\\n",
       "0  Indonesia Hadapi Banyak Tantangan Pemulihan di...   \n",
       "1  Harga Komoditas Naik, Ekonom : Jangan Bangga S...   \n",
       "2      Investasi Inklusif untuk Masa Depan Indonesia   \n",
       "3  Indikator Membaik, Pemulihan Ekonomi Diharapka...   \n",
       "4  Luhut Janji Percepat Izin Usaha ke Investor di...   \n",
       "\n",
       "                                              tautan  \\\n",
       "0  https://mediaindonesia.com/ekonomi/466763/indo...   \n",
       "1  https://mediaindonesia.com/ekonomi/466795/harg...   \n",
       "2  https://mediaindonesia.com/kolom-pakar/464741/...   \n",
       "3  https://mediaindonesia.com/ekonomi/464086/indi...   \n",
       "4  https://mediaindonesia.com/ekonomi/459751/luhu...   \n",
       "\n",
       "                                             artikel  \n",
       "0  ANTARA/MUHAMMAD ADIMAJA\\nMenko Perekonomian Ai...  \n",
       "1  ANTARA FOTO/Aswaddy Hamid\\nPekerja memuat miny...  \n",
       "2  MI/Seno\\n \\n TAHUN Baru bukan hanya lintasan w...  \n",
       "3  ANTARA\\nIlustrasi\\n MENTERI Koordinator Bidang...  \n",
       "4  Antara \\nMenko Bidang Kemaritiman dan Investas...  "
      ]
     },
     "execution_count": 20,
     "metadata": {},
     "output_type": "execute_result"
    }
   ],
   "source": [
    "df = pd.DataFrame(data = list_data)\n",
    "df.head()"
   ]
  },
  {
   "cell_type": "code",
   "execution_count": 21,
   "metadata": {},
   "outputs": [],
   "source": [
    "df.to_csv(r'D:\\Documents\\code\\Scraping\\media indonesia - transformasi ekonomi2.csv', index = False, header=True)"
   ]
  }
 ],
 "metadata": {
  "interpreter": {
   "hash": "2c7d64733f89817978f0a2ea8ad9d9722e234ca2cd46052e9e84373ee44cfbb3"
  },
  "kernelspec": {
   "display_name": "Python 3.10.4 64-bit",
   "language": "python",
   "name": "python3"
  },
  "language_info": {
   "codemirror_mode": {
    "name": "ipython",
    "version": 3
   },
   "file_extension": ".py",
   "mimetype": "text/x-python",
   "name": "python",
   "nbconvert_exporter": "python",
   "pygments_lexer": "ipython3",
   "version": "3.10.5"
  },
  "orig_nbformat": 4
 },
 "nbformat": 4,
 "nbformat_minor": 2
}
